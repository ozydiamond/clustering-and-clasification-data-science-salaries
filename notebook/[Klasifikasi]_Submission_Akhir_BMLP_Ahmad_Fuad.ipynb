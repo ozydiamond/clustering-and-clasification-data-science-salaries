{
  "nbformat": 4,
  "nbformat_minor": 0,
  "metadata": {
    "colab": {
      "provenance": [],
      "toc_visible": true
    },
    "kernelspec": {
      "name": "python3",
      "display_name": "Python 3"
    },
    "language_info": {
      "name": "python"
    }
  },
  "cells": [
    {
      "cell_type": "markdown",
      "source": [
        "# **1. Import Library**"
      ],
      "metadata": {
        "id": "fKADPWcFKlj3"
      }
    },
    {
      "cell_type": "code",
      "source": [
        "#import library for clasification\n",
        "import pandas as pd\n",
        "import numpy as np\n",
        "import matplotlib.pyplot as plt\n",
        "import seaborn as sns\n",
        "from sklearn.preprocessing import StandardScaler\n",
        "from sklearn.model_selection import train_test_split\n",
        "from sklearn.linear_model import LogisticRegression\n",
        "from sklearn.tree import DecisionTreeClassifier\n",
        "from sklearn.ensemble import RandomForestClassifier\n",
        "from sklearn.neighbors import KNeighborsClassifier\n",
        "from sklearn.svm import SVC\n",
        "from sklearn.metrics import accuracy_score, classification_report, confusion_matrix\n",
        "from sklearn.model_selection import GridSearchCV, RandomizedSearchCV"
      ],
      "metadata": {
        "id": "BlmvjLY9M4Yj"
      },
      "execution_count": null,
      "outputs": []
    },
    {
      "cell_type": "markdown",
      "source": [
        "# **2. Memuat Dataset dari Hasil Clustering**"
      ],
      "metadata": {
        "id": "f3YIEnAFKrKL"
      }
    },
    {
      "cell_type": "code",
      "source": [
        "#load dataset\n",
        "df = pd.read_csv('ds_salaries_labeled.csv')\n",
        "df.head()"
      ],
      "metadata": {
        "id": "GHCGNTyrM5fS",
        "colab": {
          "base_uri": "https://localhost:8080/",
          "height": 226
        },
        "outputId": "d02ca83c-25e3-40f8-9613-409f06e14f93"
      },
      "execution_count": null,
      "outputs": [
        {
          "output_type": "execute_result",
          "data": {
            "text/plain": [
              "   work_year  experience_level  salary_in_usd  remote_ratio  company_size  \\\n",
              "0       2023                 3          85847           100             3   \n",
              "1       2023                 2          30000           100             1   \n",
              "2       2023                 2          25500           100             1   \n",
              "3       2023                 3         175000           100             2   \n",
              "4       2023                 3         120000           100             2   \n",
              "\n",
              "   employment_type_CT  employment_type_FL  employment_type_FT  \\\n",
              "0               False               False                True   \n",
              "1                True               False               False   \n",
              "2                True               False               False   \n",
              "3               False               False                True   \n",
              "4               False               False                True   \n",
              "\n",
              "   employment_type_PT  job_title_freq  employee_residence_encoded  \\\n",
              "0               False               8                          47   \n",
              "1               False              34                        1893   \n",
              "2               False              34                        1893   \n",
              "3               False             538                          81   \n",
              "4               False             538                          81   \n",
              "\n",
              "   company_location_encoded  cluster  \n",
              "0                        44        1  \n",
              "1                      1929        2  \n",
              "2                      1929        2  \n",
              "3                        83        1  \n",
              "4                        83        1  "
            ],
            "text/html": [
              "\n",
              "  <div id=\"df-ddaa04b8-d1e9-4285-8c56-ff3ae5442390\" class=\"colab-df-container\">\n",
              "    <div>\n",
              "<style scoped>\n",
              "    .dataframe tbody tr th:only-of-type {\n",
              "        vertical-align: middle;\n",
              "    }\n",
              "\n",
              "    .dataframe tbody tr th {\n",
              "        vertical-align: top;\n",
              "    }\n",
              "\n",
              "    .dataframe thead th {\n",
              "        text-align: right;\n",
              "    }\n",
              "</style>\n",
              "<table border=\"1\" class=\"dataframe\">\n",
              "  <thead>\n",
              "    <tr style=\"text-align: right;\">\n",
              "      <th></th>\n",
              "      <th>work_year</th>\n",
              "      <th>experience_level</th>\n",
              "      <th>salary_in_usd</th>\n",
              "      <th>remote_ratio</th>\n",
              "      <th>company_size</th>\n",
              "      <th>employment_type_CT</th>\n",
              "      <th>employment_type_FL</th>\n",
              "      <th>employment_type_FT</th>\n",
              "      <th>employment_type_PT</th>\n",
              "      <th>job_title_freq</th>\n",
              "      <th>employee_residence_encoded</th>\n",
              "      <th>company_location_encoded</th>\n",
              "      <th>cluster</th>\n",
              "    </tr>\n",
              "  </thead>\n",
              "  <tbody>\n",
              "    <tr>\n",
              "      <th>0</th>\n",
              "      <td>2023</td>\n",
              "      <td>3</td>\n",
              "      <td>85847</td>\n",
              "      <td>100</td>\n",
              "      <td>3</td>\n",
              "      <td>False</td>\n",
              "      <td>False</td>\n",
              "      <td>True</td>\n",
              "      <td>False</td>\n",
              "      <td>8</td>\n",
              "      <td>47</td>\n",
              "      <td>44</td>\n",
              "      <td>1</td>\n",
              "    </tr>\n",
              "    <tr>\n",
              "      <th>1</th>\n",
              "      <td>2023</td>\n",
              "      <td>2</td>\n",
              "      <td>30000</td>\n",
              "      <td>100</td>\n",
              "      <td>1</td>\n",
              "      <td>True</td>\n",
              "      <td>False</td>\n",
              "      <td>False</td>\n",
              "      <td>False</td>\n",
              "      <td>34</td>\n",
              "      <td>1893</td>\n",
              "      <td>1929</td>\n",
              "      <td>2</td>\n",
              "    </tr>\n",
              "    <tr>\n",
              "      <th>2</th>\n",
              "      <td>2023</td>\n",
              "      <td>2</td>\n",
              "      <td>25500</td>\n",
              "      <td>100</td>\n",
              "      <td>1</td>\n",
              "      <td>True</td>\n",
              "      <td>False</td>\n",
              "      <td>False</td>\n",
              "      <td>False</td>\n",
              "      <td>34</td>\n",
              "      <td>1893</td>\n",
              "      <td>1929</td>\n",
              "      <td>2</td>\n",
              "    </tr>\n",
              "    <tr>\n",
              "      <th>3</th>\n",
              "      <td>2023</td>\n",
              "      <td>3</td>\n",
              "      <td>175000</td>\n",
              "      <td>100</td>\n",
              "      <td>2</td>\n",
              "      <td>False</td>\n",
              "      <td>False</td>\n",
              "      <td>True</td>\n",
              "      <td>False</td>\n",
              "      <td>538</td>\n",
              "      <td>81</td>\n",
              "      <td>83</td>\n",
              "      <td>1</td>\n",
              "    </tr>\n",
              "    <tr>\n",
              "      <th>4</th>\n",
              "      <td>2023</td>\n",
              "      <td>3</td>\n",
              "      <td>120000</td>\n",
              "      <td>100</td>\n",
              "      <td>2</td>\n",
              "      <td>False</td>\n",
              "      <td>False</td>\n",
              "      <td>True</td>\n",
              "      <td>False</td>\n",
              "      <td>538</td>\n",
              "      <td>81</td>\n",
              "      <td>83</td>\n",
              "      <td>1</td>\n",
              "    </tr>\n",
              "  </tbody>\n",
              "</table>\n",
              "</div>\n",
              "    <div class=\"colab-df-buttons\">\n",
              "\n",
              "  <div class=\"colab-df-container\">\n",
              "    <button class=\"colab-df-convert\" onclick=\"convertToInteractive('df-ddaa04b8-d1e9-4285-8c56-ff3ae5442390')\"\n",
              "            title=\"Convert this dataframe to an interactive table.\"\n",
              "            style=\"display:none;\">\n",
              "\n",
              "  <svg xmlns=\"http://www.w3.org/2000/svg\" height=\"24px\" viewBox=\"0 -960 960 960\">\n",
              "    <path d=\"M120-120v-720h720v720H120Zm60-500h600v-160H180v160Zm220 220h160v-160H400v160Zm0 220h160v-160H400v160ZM180-400h160v-160H180v160Zm440 0h160v-160H620v160ZM180-180h160v-160H180v160Zm440 0h160v-160H620v160Z\"/>\n",
              "  </svg>\n",
              "    </button>\n",
              "\n",
              "  <style>\n",
              "    .colab-df-container {\n",
              "      display:flex;\n",
              "      gap: 12px;\n",
              "    }\n",
              "\n",
              "    .colab-df-convert {\n",
              "      background-color: #E8F0FE;\n",
              "      border: none;\n",
              "      border-radius: 50%;\n",
              "      cursor: pointer;\n",
              "      display: none;\n",
              "      fill: #1967D2;\n",
              "      height: 32px;\n",
              "      padding: 0 0 0 0;\n",
              "      width: 32px;\n",
              "    }\n",
              "\n",
              "    .colab-df-convert:hover {\n",
              "      background-color: #E2EBFA;\n",
              "      box-shadow: 0px 1px 2px rgba(60, 64, 67, 0.3), 0px 1px 3px 1px rgba(60, 64, 67, 0.15);\n",
              "      fill: #174EA6;\n",
              "    }\n",
              "\n",
              "    .colab-df-buttons div {\n",
              "      margin-bottom: 4px;\n",
              "    }\n",
              "\n",
              "    [theme=dark] .colab-df-convert {\n",
              "      background-color: #3B4455;\n",
              "      fill: #D2E3FC;\n",
              "    }\n",
              "\n",
              "    [theme=dark] .colab-df-convert:hover {\n",
              "      background-color: #434B5C;\n",
              "      box-shadow: 0px 1px 3px 1px rgba(0, 0, 0, 0.15);\n",
              "      filter: drop-shadow(0px 1px 2px rgba(0, 0, 0, 0.3));\n",
              "      fill: #FFFFFF;\n",
              "    }\n",
              "  </style>\n",
              "\n",
              "    <script>\n",
              "      const buttonEl =\n",
              "        document.querySelector('#df-ddaa04b8-d1e9-4285-8c56-ff3ae5442390 button.colab-df-convert');\n",
              "      buttonEl.style.display =\n",
              "        google.colab.kernel.accessAllowed ? 'block' : 'none';\n",
              "\n",
              "      async function convertToInteractive(key) {\n",
              "        const element = document.querySelector('#df-ddaa04b8-d1e9-4285-8c56-ff3ae5442390');\n",
              "        const dataTable =\n",
              "          await google.colab.kernel.invokeFunction('convertToInteractive',\n",
              "                                                    [key], {});\n",
              "        if (!dataTable) return;\n",
              "\n",
              "        const docLinkHtml = 'Like what you see? Visit the ' +\n",
              "          '<a target=\"_blank\" href=https://colab.research.google.com/notebooks/data_table.ipynb>data table notebook</a>'\n",
              "          + ' to learn more about interactive tables.';\n",
              "        element.innerHTML = '';\n",
              "        dataTable['output_type'] = 'display_data';\n",
              "        await google.colab.output.renderOutput(dataTable, element);\n",
              "        const docLink = document.createElement('div');\n",
              "        docLink.innerHTML = docLinkHtml;\n",
              "        element.appendChild(docLink);\n",
              "      }\n",
              "    </script>\n",
              "  </div>\n",
              "\n",
              "\n",
              "<div id=\"df-6b0a8cdd-c03a-4219-bf54-06c9905fb9b8\">\n",
              "  <button class=\"colab-df-quickchart\" onclick=\"quickchart('df-6b0a8cdd-c03a-4219-bf54-06c9905fb9b8')\"\n",
              "            title=\"Suggest charts\"\n",
              "            style=\"display:none;\">\n",
              "\n",
              "<svg xmlns=\"http://www.w3.org/2000/svg\" height=\"24px\"viewBox=\"0 0 24 24\"\n",
              "     width=\"24px\">\n",
              "    <g>\n",
              "        <path d=\"M19 3H5c-1.1 0-2 .9-2 2v14c0 1.1.9 2 2 2h14c1.1 0 2-.9 2-2V5c0-1.1-.9-2-2-2zM9 17H7v-7h2v7zm4 0h-2V7h2v10zm4 0h-2v-4h2v4z\"/>\n",
              "    </g>\n",
              "</svg>\n",
              "  </button>\n",
              "\n",
              "<style>\n",
              "  .colab-df-quickchart {\n",
              "      --bg-color: #E8F0FE;\n",
              "      --fill-color: #1967D2;\n",
              "      --hover-bg-color: #E2EBFA;\n",
              "      --hover-fill-color: #174EA6;\n",
              "      --disabled-fill-color: #AAA;\n",
              "      --disabled-bg-color: #DDD;\n",
              "  }\n",
              "\n",
              "  [theme=dark] .colab-df-quickchart {\n",
              "      --bg-color: #3B4455;\n",
              "      --fill-color: #D2E3FC;\n",
              "      --hover-bg-color: #434B5C;\n",
              "      --hover-fill-color: #FFFFFF;\n",
              "      --disabled-bg-color: #3B4455;\n",
              "      --disabled-fill-color: #666;\n",
              "  }\n",
              "\n",
              "  .colab-df-quickchart {\n",
              "    background-color: var(--bg-color);\n",
              "    border: none;\n",
              "    border-radius: 50%;\n",
              "    cursor: pointer;\n",
              "    display: none;\n",
              "    fill: var(--fill-color);\n",
              "    height: 32px;\n",
              "    padding: 0;\n",
              "    width: 32px;\n",
              "  }\n",
              "\n",
              "  .colab-df-quickchart:hover {\n",
              "    background-color: var(--hover-bg-color);\n",
              "    box-shadow: 0 1px 2px rgba(60, 64, 67, 0.3), 0 1px 3px 1px rgba(60, 64, 67, 0.15);\n",
              "    fill: var(--button-hover-fill-color);\n",
              "  }\n",
              "\n",
              "  .colab-df-quickchart-complete:disabled,\n",
              "  .colab-df-quickchart-complete:disabled:hover {\n",
              "    background-color: var(--disabled-bg-color);\n",
              "    fill: var(--disabled-fill-color);\n",
              "    box-shadow: none;\n",
              "  }\n",
              "\n",
              "  .colab-df-spinner {\n",
              "    border: 2px solid var(--fill-color);\n",
              "    border-color: transparent;\n",
              "    border-bottom-color: var(--fill-color);\n",
              "    animation:\n",
              "      spin 1s steps(1) infinite;\n",
              "  }\n",
              "\n",
              "  @keyframes spin {\n",
              "    0% {\n",
              "      border-color: transparent;\n",
              "      border-bottom-color: var(--fill-color);\n",
              "      border-left-color: var(--fill-color);\n",
              "    }\n",
              "    20% {\n",
              "      border-color: transparent;\n",
              "      border-left-color: var(--fill-color);\n",
              "      border-top-color: var(--fill-color);\n",
              "    }\n",
              "    30% {\n",
              "      border-color: transparent;\n",
              "      border-left-color: var(--fill-color);\n",
              "      border-top-color: var(--fill-color);\n",
              "      border-right-color: var(--fill-color);\n",
              "    }\n",
              "    40% {\n",
              "      border-color: transparent;\n",
              "      border-right-color: var(--fill-color);\n",
              "      border-top-color: var(--fill-color);\n",
              "    }\n",
              "    60% {\n",
              "      border-color: transparent;\n",
              "      border-right-color: var(--fill-color);\n",
              "    }\n",
              "    80% {\n",
              "      border-color: transparent;\n",
              "      border-right-color: var(--fill-color);\n",
              "      border-bottom-color: var(--fill-color);\n",
              "    }\n",
              "    90% {\n",
              "      border-color: transparent;\n",
              "      border-bottom-color: var(--fill-color);\n",
              "    }\n",
              "  }\n",
              "</style>\n",
              "\n",
              "  <script>\n",
              "    async function quickchart(key) {\n",
              "      const quickchartButtonEl =\n",
              "        document.querySelector('#' + key + ' button');\n",
              "      quickchartButtonEl.disabled = true;  // To prevent multiple clicks.\n",
              "      quickchartButtonEl.classList.add('colab-df-spinner');\n",
              "      try {\n",
              "        const charts = await google.colab.kernel.invokeFunction(\n",
              "            'suggestCharts', [key], {});\n",
              "      } catch (error) {\n",
              "        console.error('Error during call to suggestCharts:', error);\n",
              "      }\n",
              "      quickchartButtonEl.classList.remove('colab-df-spinner');\n",
              "      quickchartButtonEl.classList.add('colab-df-quickchart-complete');\n",
              "    }\n",
              "    (() => {\n",
              "      let quickchartButtonEl =\n",
              "        document.querySelector('#df-6b0a8cdd-c03a-4219-bf54-06c9905fb9b8 button');\n",
              "      quickchartButtonEl.style.display =\n",
              "        google.colab.kernel.accessAllowed ? 'block' : 'none';\n",
              "    })();\n",
              "  </script>\n",
              "</div>\n",
              "\n",
              "    </div>\n",
              "  </div>\n"
            ],
            "application/vnd.google.colaboratory.intrinsic+json": {
              "type": "dataframe",
              "variable_name": "df",
              "summary": "{\n  \"name\": \"df\",\n  \"rows\": 2584,\n  \"fields\": [\n    {\n      \"column\": \"work_year\",\n      \"properties\": {\n        \"dtype\": \"number\",\n        \"std\": 0,\n        \"min\": 2020,\n        \"max\": 2023,\n        \"num_unique_values\": 4,\n        \"samples\": [\n          2022,\n          2021,\n          2023\n        ],\n        \"semantic_type\": \"\",\n        \"description\": \"\"\n      }\n    },\n    {\n      \"column\": \"experience_level\",\n      \"properties\": {\n        \"dtype\": \"number\",\n        \"std\": 0,\n        \"min\": 1,\n        \"max\": 4,\n        \"num_unique_values\": 4,\n        \"samples\": [\n          2,\n          4,\n          3\n        ],\n        \"semantic_type\": \"\",\n        \"description\": \"\"\n      }\n    },\n    {\n      \"column\": \"salary_in_usd\",\n      \"properties\": {\n        \"dtype\": \"number\",\n        \"std\": 67136,\n        \"min\": 5132,\n        \"max\": 450000,\n        \"num_unique_values\": 1035,\n        \"samples\": [\n          205600,\n          375000,\n          140700\n        ],\n        \"semantic_type\": \"\",\n        \"description\": \"\"\n      }\n    },\n    {\n      \"column\": \"remote_ratio\",\n      \"properties\": {\n        \"dtype\": \"number\",\n        \"std\": 48,\n        \"min\": 0,\n        \"max\": 100,\n        \"num_unique_values\": 3,\n        \"samples\": [\n          100,\n          0,\n          50\n        ],\n        \"semantic_type\": \"\",\n        \"description\": \"\"\n      }\n    },\n    {\n      \"column\": \"company_size\",\n      \"properties\": {\n        \"dtype\": \"number\",\n        \"std\": 0,\n        \"min\": 1,\n        \"max\": 3,\n        \"num_unique_values\": 3,\n        \"samples\": [\n          3,\n          1,\n          2\n        ],\n        \"semantic_type\": \"\",\n        \"description\": \"\"\n      }\n    },\n    {\n      \"column\": \"employment_type_CT\",\n      \"properties\": {\n        \"dtype\": \"boolean\",\n        \"num_unique_values\": 2,\n        \"samples\": [\n          true,\n          false\n        ],\n        \"semantic_type\": \"\",\n        \"description\": \"\"\n      }\n    },\n    {\n      \"column\": \"employment_type_FL\",\n      \"properties\": {\n        \"dtype\": \"boolean\",\n        \"num_unique_values\": 2,\n        \"samples\": [\n          true,\n          false\n        ],\n        \"semantic_type\": \"\",\n        \"description\": \"\"\n      }\n    },\n    {\n      \"column\": \"employment_type_FT\",\n      \"properties\": {\n        \"dtype\": \"boolean\",\n        \"num_unique_values\": 2,\n        \"samples\": [\n          false,\n          true\n        ],\n        \"semantic_type\": \"\",\n        \"description\": \"\"\n      }\n    },\n    {\n      \"column\": \"employment_type_PT\",\n      \"properties\": {\n        \"dtype\": \"boolean\",\n        \"num_unique_values\": 2,\n        \"samples\": [\n          true,\n          false\n        ],\n        \"semantic_type\": \"\",\n        \"description\": \"\"\n      }\n    },\n    {\n      \"column\": \"job_title_freq\",\n      \"properties\": {\n        \"dtype\": \"number\",\n        \"std\": 237,\n        \"min\": 1,\n        \"max\": 598,\n        \"num_unique_values\": 28,\n        \"samples\": [\n          206,\n          3\n        ],\n        \"semantic_type\": \"\",\n        \"description\": \"\"\n      }\n    },\n    {\n      \"column\": \"employee_residence_encoded\",\n      \"properties\": {\n        \"dtype\": \"number\",\n        \"std\": 811,\n        \"min\": 1,\n        \"max\": 1893,\n        \"num_unique_values\": 19,\n        \"samples\": [\n          47,\n          70\n        ],\n        \"semantic_type\": \"\",\n        \"description\": \"\"\n      }\n    },\n    {\n      \"column\": \"company_location_encoded\",\n      \"properties\": {\n        \"dtype\": \"number\",\n        \"std\": 812,\n        \"min\": 1,\n        \"max\": 1929,\n        \"num_unique_values\": 19,\n        \"samples\": [\n          44,\n          5\n        ],\n        \"semantic_type\": \"\",\n        \"description\": \"\"\n      }\n    },\n    {\n      \"column\": \"cluster\",\n      \"properties\": {\n        \"dtype\": \"number\",\n        \"std\": 0,\n        \"min\": 0,\n        \"max\": 2,\n        \"num_unique_values\": 3,\n        \"samples\": [\n          1,\n          2\n        ],\n        \"semantic_type\": \"\",\n        \"description\": \"\"\n      }\n    }\n  ]\n}"
            }
          },
          "metadata": {},
          "execution_count": 5
        }
      ]
    },
    {
      "cell_type": "markdown",
      "source": [
        "# **3. Data Splitting**"
      ],
      "metadata": {
        "id": "KkPem5eWL2UP"
      }
    },
    {
      "cell_type": "code",
      "source": [
        "#separate features(X) and target(y ='cluster')\n",
        "X = df.drop(['cluster'], axis=1)\n",
        "y = df['cluster']\n",
        "\n",
        "#split data training and testing\n",
        "X_train, X_test, y_train, y_test = train_test_split(X, y, test_size=0.2, random_state=42)\n",
        "\n",
        "#verify the split\n",
        "print(f\"Jumlah data latih: {len(X_train)}\")\n",
        "print(f\"Jumlah data uji: {len(X_test)}\")"
      ],
      "metadata": {
        "id": "OubAW-7ONKVj",
        "colab": {
          "base_uri": "https://localhost:8080/"
        },
        "outputId": "9a301393-5d02-4faf-e2dd-1a0829407494"
      },
      "execution_count": null,
      "outputs": [
        {
          "output_type": "stream",
          "name": "stdout",
          "text": [
            "Jumlah data latih: 2067\n",
            "Jumlah data uji: 517\n"
          ]
        }
      ]
    },
    {
      "cell_type": "markdown",
      "source": [
        "# **4. Membangun Model Klasifikasi**\n"
      ],
      "metadata": {
        "id": "IVPbB03CMhTT"
      }
    },
    {
      "cell_type": "markdown",
      "source": [
        "## **a. Membangun Model Klasifikasi**"
      ],
      "metadata": {
        "id": "Ned1pL9zMmBK"
      }
    },
    {
      "cell_type": "code",
      "source": [
        "#initialize model\n",
        "models = {\n",
        "    'Logistic Regression': LogisticRegression(),\n",
        "    'Decision Tree': DecisionTreeClassifier(),\n",
        "    'Random Forest': RandomForestClassifier(),\n",
        "    'K-Nearest Neighbors': KNeighborsClassifier()\n",
        "}"
      ],
      "metadata": {
        "id": "4JYxBe87NLDk"
      },
      "execution_count": null,
      "outputs": []
    },
    {
      "cell_type": "markdown",
      "source": [
        "Tulis narasi atau penjelasan algoritma yang Anda gunakan."
      ],
      "metadata": {
        "id": "seYoHNY3XU1y"
      }
    },
    {
      "cell_type": "markdown",
      "source": [
        "## **b. Evaluasi Model Klasifikasi**"
      ],
      "metadata": {
        "id": "ergzChZFEL-O"
      }
    },
    {
      "cell_type": "code",
      "source": [
        "#train and evaluate model\n",
        "for name, model in models.items():\n",
        "    model.fit(X_train, y_train)\n",
        "    y_pred = model.predict(X_test)\n",
        "    accuracy = accuracy_score(y_test, y_pred)\n",
        "    report = classification_report(y_test, y_pred)\n",
        "    conf_matrix = confusion_matrix(y_test, y_pred)\n",
        "\n",
        "    print(f\"Model: {name}\")\n",
        "    print(f\"Accuracy: {accuracy}\")\n",
        "    print(\"Classification Report:\\n\", report)\n",
        "    print(\"Confusion Matrix:\\n\", conf_matrix)\n",
        "    print(\"=\"*50)"
      ],
      "metadata": {
        "id": "tMq4QAssNLip",
        "colab": {
          "base_uri": "https://localhost:8080/"
        },
        "outputId": "48f5c848-23a9-4cce-8815-3755491a319b"
      },
      "execution_count": null,
      "outputs": [
        {
          "output_type": "stream",
          "name": "stdout",
          "text": [
            "Model: Logistic Regression\n",
            "Accuracy: 0.9477756286266924\n",
            "Classification Report:\n",
            "               precision    recall  f1-score   support\n",
            "\n",
            "           0       0.96      0.99      0.98       386\n",
            "           1       0.90      0.89      0.89       119\n",
            "           2       0.00      0.00      0.00        12\n",
            "\n",
            "    accuracy                           0.95       517\n",
            "   macro avg       0.62      0.63      0.62       517\n",
            "weighted avg       0.93      0.95      0.94       517\n",
            "\n",
            "Confusion Matrix:\n",
            " [[384   2   0]\n",
            " [ 13 106   0]\n",
            " [  2  10   0]]\n",
            "==================================================\n",
            "Model: Decision Tree\n",
            "Accuracy: 0.9806576402321083\n",
            "Classification Report:\n",
            "               precision    recall  f1-score   support\n",
            "\n",
            "           0       0.99      0.98      0.99       386\n",
            "           1       0.95      0.97      0.96       119\n",
            "           2       1.00      1.00      1.00        12\n",
            "\n",
            "    accuracy                           0.98       517\n",
            "   macro avg       0.98      0.98      0.98       517\n",
            "weighted avg       0.98      0.98      0.98       517\n",
            "\n",
            "Confusion Matrix:\n",
            " [[380   6   0]\n",
            " [  4 115   0]\n",
            " [  0   0  12]]\n",
            "==================================================\n"
          ]
        },
        {
          "output_type": "stream",
          "name": "stderr",
          "text": [
            "/usr/local/lib/python3.10/dist-packages/sklearn/linear_model/_logistic.py:465: ConvergenceWarning: lbfgs failed to converge (status=1):\n",
            "STOP: TOTAL NO. of ITERATIONS REACHED LIMIT.\n",
            "\n",
            "Increase the number of iterations (max_iter) or scale the data as shown in:\n",
            "    https://scikit-learn.org/stable/modules/preprocessing.html\n",
            "Please also refer to the documentation for alternative solver options:\n",
            "    https://scikit-learn.org/stable/modules/linear_model.html#logistic-regression\n",
            "  n_iter_i = _check_optimize_result(\n",
            "/usr/local/lib/python3.10/dist-packages/sklearn/metrics/_classification.py:1565: UndefinedMetricWarning: Precision is ill-defined and being set to 0.0 in labels with no predicted samples. Use `zero_division` parameter to control this behavior.\n",
            "  _warn_prf(average, modifier, f\"{metric.capitalize()} is\", len(result))\n",
            "/usr/local/lib/python3.10/dist-packages/sklearn/metrics/_classification.py:1565: UndefinedMetricWarning: Precision is ill-defined and being set to 0.0 in labels with no predicted samples. Use `zero_division` parameter to control this behavior.\n",
            "  _warn_prf(average, modifier, f\"{metric.capitalize()} is\", len(result))\n",
            "/usr/local/lib/python3.10/dist-packages/sklearn/metrics/_classification.py:1565: UndefinedMetricWarning: Precision is ill-defined and being set to 0.0 in labels with no predicted samples. Use `zero_division` parameter to control this behavior.\n",
            "  _warn_prf(average, modifier, f\"{metric.capitalize()} is\", len(result))\n"
          ]
        },
        {
          "output_type": "stream",
          "name": "stdout",
          "text": [
            "Model: Random Forest\n",
            "Accuracy: 0.988394584139265\n",
            "Classification Report:\n",
            "               precision    recall  f1-score   support\n",
            "\n",
            "           0       0.99      0.99      0.99       386\n",
            "           1       0.98      0.97      0.97       119\n",
            "           2       1.00      1.00      1.00        12\n",
            "\n",
            "    accuracy                           0.99       517\n",
            "   macro avg       0.99      0.99      0.99       517\n",
            "weighted avg       0.99      0.99      0.99       517\n",
            "\n",
            "Confusion Matrix:\n",
            " [[384   2   0]\n",
            " [  4 115   0]\n",
            " [  0   0  12]]\n",
            "==================================================\n",
            "Model: K-Nearest Neighbors\n",
            "Accuracy: 0.9361702127659575\n",
            "Classification Report:\n",
            "               precision    recall  f1-score   support\n",
            "\n",
            "           0       0.94      0.99      0.97       386\n",
            "           1       0.91      0.84      0.87       119\n",
            "           2       0.00      0.00      0.00        12\n",
            "\n",
            "    accuracy                           0.94       517\n",
            "   macro avg       0.62      0.61      0.61       517\n",
            "weighted avg       0.91      0.94      0.92       517\n",
            "\n",
            "Confusion Matrix:\n",
            " [[384   2   0]\n",
            " [ 19 100   0]\n",
            " [  4   8   0]]\n",
            "==================================================\n"
          ]
        },
        {
          "output_type": "stream",
          "name": "stderr",
          "text": [
            "/usr/local/lib/python3.10/dist-packages/sklearn/metrics/_classification.py:1565: UndefinedMetricWarning: Precision is ill-defined and being set to 0.0 in labels with no predicted samples. Use `zero_division` parameter to control this behavior.\n",
            "  _warn_prf(average, modifier, f\"{metric.capitalize()} is\", len(result))\n",
            "/usr/local/lib/python3.10/dist-packages/sklearn/metrics/_classification.py:1565: UndefinedMetricWarning: Precision is ill-defined and being set to 0.0 in labels with no predicted samples. Use `zero_division` parameter to control this behavior.\n",
            "  _warn_prf(average, modifier, f\"{metric.capitalize()} is\", len(result))\n",
            "/usr/local/lib/python3.10/dist-packages/sklearn/metrics/_classification.py:1565: UndefinedMetricWarning: Precision is ill-defined and being set to 0.0 in labels with no predicted samples. Use `zero_division` parameter to control this behavior.\n",
            "  _warn_prf(average, modifier, f\"{metric.capitalize()} is\", len(result))\n"
          ]
        }
      ]
    },
    {
      "cell_type": "markdown",
      "source": [
        "Tulis hasil evaluasi algoritma yang digunakan, jika Anda menggunakan 2 algoritma, maka bandingkan hasilnya."
      ],
      "metadata": {
        "id": "H4_9OwrsXZlz"
      }
    },
    {
      "cell_type": "markdown",
      "source": [
        "## **c. Tuning Model Klasifikasi (Optional)**"
      ],
      "metadata": {
        "id": "ph9yIYDXEPuB"
      }
    },
    {
      "cell_type": "markdown",
      "source": [
        "Gunakan GridSearchCV, RandomizedSearchCV, atau metode lainnya untuk mencari kombinasi hyperparameter terbaik"
      ],
      "metadata": {
        "id": "-Bikx3LINv5e"
      }
    },
    {
      "cell_type": "code",
      "source": [
        "#GridSearchCV for Logistic Regression\n",
        "param_grid = {\n",
        "    'penalty': ['l2', 'none'],\n",
        "    'C': [0.1, 1, 10],\n",
        "    'solver': ['liblinear', 'saga']\n",
        "}\n",
        "\n",
        "# initial model and GridSearchCV\n",
        "log_reg = LogisticRegression(max_iter=1000)\n",
        "grid_search_log_reg = GridSearchCV(log_reg, param_grid, cv=5, scoring='accuracy')\n",
        "\n",
        "# Fit model to data\n",
        "grid_search_log_reg.fit(X_train, y_train)\n",
        "\n",
        "print(f\"Best Hyperparameters: {grid_search_log_reg.best_params_}\")\n",
        "print(f\"Best Cross-Validation Accuracy: {grid_search_log_reg.best_score_}\")"
      ],
      "metadata": {
        "id": "winbFzb8NL95",
        "colab": {
          "base_uri": "https://localhost:8080/"
        },
        "outputId": "bf270416-d640-4917-92f6-93fa08f33d8b"
      },
      "execution_count": null,
      "outputs": [
        {
          "output_type": "stream",
          "name": "stderr",
          "text": [
            "/usr/local/lib/python3.10/dist-packages/sklearn/linear_model/_sag.py:348: ConvergenceWarning: The max_iter was reached which means the coef_ did not converge\n",
            "  warnings.warn(\n",
            "/usr/local/lib/python3.10/dist-packages/sklearn/linear_model/_sag.py:348: ConvergenceWarning: The max_iter was reached which means the coef_ did not converge\n",
            "  warnings.warn(\n",
            "/usr/local/lib/python3.10/dist-packages/sklearn/linear_model/_sag.py:348: ConvergenceWarning: The max_iter was reached which means the coef_ did not converge\n",
            "  warnings.warn(\n",
            "/usr/local/lib/python3.10/dist-packages/sklearn/linear_model/_sag.py:348: ConvergenceWarning: The max_iter was reached which means the coef_ did not converge\n",
            "  warnings.warn(\n",
            "/usr/local/lib/python3.10/dist-packages/sklearn/linear_model/_sag.py:348: ConvergenceWarning: The max_iter was reached which means the coef_ did not converge\n",
            "  warnings.warn(\n",
            "/usr/local/lib/python3.10/dist-packages/sklearn/linear_model/_sag.py:348: ConvergenceWarning: The max_iter was reached which means the coef_ did not converge\n",
            "  warnings.warn(\n",
            "/usr/local/lib/python3.10/dist-packages/sklearn/linear_model/_sag.py:348: ConvergenceWarning: The max_iter was reached which means the coef_ did not converge\n",
            "  warnings.warn(\n",
            "/usr/local/lib/python3.10/dist-packages/sklearn/linear_model/_sag.py:348: ConvergenceWarning: The max_iter was reached which means the coef_ did not converge\n",
            "  warnings.warn(\n",
            "/usr/local/lib/python3.10/dist-packages/sklearn/linear_model/_sag.py:348: ConvergenceWarning: The max_iter was reached which means the coef_ did not converge\n",
            "  warnings.warn(\n",
            "/usr/local/lib/python3.10/dist-packages/sklearn/linear_model/_sag.py:348: ConvergenceWarning: The max_iter was reached which means the coef_ did not converge\n",
            "  warnings.warn(\n",
            "/usr/local/lib/python3.10/dist-packages/sklearn/linear_model/_sag.py:348: ConvergenceWarning: The max_iter was reached which means the coef_ did not converge\n",
            "  warnings.warn(\n",
            "/usr/local/lib/python3.10/dist-packages/sklearn/linear_model/_sag.py:348: ConvergenceWarning: The max_iter was reached which means the coef_ did not converge\n",
            "  warnings.warn(\n",
            "/usr/local/lib/python3.10/dist-packages/sklearn/linear_model/_sag.py:348: ConvergenceWarning: The max_iter was reached which means the coef_ did not converge\n",
            "  warnings.warn(\n",
            "/usr/local/lib/python3.10/dist-packages/sklearn/linear_model/_sag.py:348: ConvergenceWarning: The max_iter was reached which means the coef_ did not converge\n",
            "  warnings.warn(\n"
          ]
        },
        {
          "output_type": "stream",
          "name": "stdout",
          "text": [
            "Best Hyperparameters: {'C': 0.1, 'penalty': 'l2', 'solver': 'liblinear'}\n",
            "Best Cross-Validation Accuracy: 0.9733960299914612\n"
          ]
        },
        {
          "output_type": "stream",
          "name": "stderr",
          "text": [
            "/usr/local/lib/python3.10/dist-packages/sklearn/linear_model/_sag.py:348: ConvergenceWarning: The max_iter was reached which means the coef_ did not converge\n",
            "  warnings.warn(\n",
            "/usr/local/lib/python3.10/dist-packages/sklearn/model_selection/_validation.py:528: FitFailedWarning: \n",
            "30 fits failed out of a total of 60.\n",
            "The score on these train-test partitions for these parameters will be set to nan.\n",
            "If these failures are not expected, you can try to debug them by setting error_score='raise'.\n",
            "\n",
            "Below are more details about the failures:\n",
            "--------------------------------------------------------------------------------\n",
            "30 fits failed with the following error:\n",
            "Traceback (most recent call last):\n",
            "  File \"/usr/local/lib/python3.10/dist-packages/sklearn/model_selection/_validation.py\", line 866, in _fit_and_score\n",
            "    estimator.fit(X_train, y_train, **fit_params)\n",
            "  File \"/usr/local/lib/python3.10/dist-packages/sklearn/base.py\", line 1382, in wrapper\n",
            "    estimator._validate_params()\n",
            "  File \"/usr/local/lib/python3.10/dist-packages/sklearn/base.py\", line 436, in _validate_params\n",
            "    validate_parameter_constraints(\n",
            "  File \"/usr/local/lib/python3.10/dist-packages/sklearn/utils/_param_validation.py\", line 98, in validate_parameter_constraints\n",
            "    raise InvalidParameterError(\n",
            "sklearn.utils._param_validation.InvalidParameterError: The 'penalty' parameter of LogisticRegression must be a str among {'l2', 'l1', 'elasticnet'} or None. Got 'none' instead.\n",
            "\n",
            "  warnings.warn(some_fits_failed_message, FitFailedWarning)\n",
            "/usr/local/lib/python3.10/dist-packages/sklearn/model_selection/_search.py:1107: UserWarning: One or more of the test scores are non-finite: [0.97339603 0.96904353        nan        nan 0.97339603 0.96904353\n",
            "        nan        nan 0.97339603 0.96904353        nan        nan]\n",
            "  warnings.warn(\n"
          ]
        }
      ]
    },
    {
      "cell_type": "code",
      "source": [
        "# GridSearchCV untuk Decision Tree\n",
        "param_grid = {\n",
        "    'criterion': ['gini', 'entropy'],\n",
        "    'max_depth': [None, 10, 20, 30],\n",
        "    'min_samples_split': [2, 5, 10],\n",
        "    'min_samples_leaf': [1, 2, 4]\n",
        "}\n",
        "\n",
        "# Initialize model and GridSearchCV\n",
        "dt = DecisionTreeClassifier()\n",
        "grid_search_dt = GridSearchCV(dt, param_grid, cv=5, scoring='accuracy')\n",
        "\n",
        "# Fit model to data\n",
        "grid_search_dt.fit(X_train, y_train)\n",
        "\n",
        "print(f\"Best Hyperparameters: {grid_search_dt.best_params_}\")\n",
        "print(f\"Best Cross-Validation Accuracy: {grid_search_dt.best_score_}\")"
      ],
      "metadata": {
        "colab": {
          "base_uri": "https://localhost:8080/"
        },
        "id": "jWv5A6nzpPDk",
        "outputId": "6f9f30f4-3e01-4fa8-a918-1d548d4ca4e8"
      },
      "execution_count": null,
      "outputs": [
        {
          "output_type": "stream",
          "name": "stdout",
          "text": [
            "Best Hyperparameters: {'criterion': 'gini', 'max_depth': 30, 'min_samples_leaf': 2, 'min_samples_split': 5}\n",
            "Best Cross-Validation Accuracy: 0.9883940999637388\n"
          ]
        }
      ]
    },
    {
      "cell_type": "code",
      "source": [
        "# GridSearchCV untuk Random Forest\n",
        "param_grid = {\n",
        "    'n_estimators': [100, 200, 300],\n",
        "    'max_depth': [None, 10, 20, 30],\n",
        "    'min_samples_split': [2, 5, 10],\n",
        "    'min_samples_leaf': [1, 2, 4]\n",
        "}\n",
        "\n",
        "# initialize model and GridSearchCV\n",
        "rf = RandomForestClassifier()\n",
        "grid_search_rf = GridSearchCV(rf, param_grid, cv=5, scoring='accuracy')\n",
        "\n",
        "# Fit model to data\n",
        "grid_search_rf.fit(X_train, y_train)\n",
        "\n",
        "print(f\"Best Hyperparameters: {grid_search_rf.best_params_}\")\n",
        "print(f\"Best Cross-Validation Accuracy: {grid_search_rf.best_score_}\")\n"
      ],
      "metadata": {
        "colab": {
          "base_uri": "https://localhost:8080/"
        },
        "id": "DXIXgsaipqQ_",
        "outputId": "41dd9890-6a93-4ff1-bca2-86e5a433fd08"
      },
      "execution_count": null,
      "outputs": [
        {
          "output_type": "stream",
          "name": "stdout",
          "text": [
            "Best Hyperparameters: {'max_depth': None, 'min_samples_leaf': 1, 'min_samples_split': 5, 'n_estimators': 300}\n",
            "Best Cross-Validation Accuracy: 0.9903299762548106\n"
          ]
        }
      ]
    },
    {
      "cell_type": "code",
      "source": [
        "# RandomizedSearchCV untuk K-Nearest Neighbors\n",
        "param_dist = {\n",
        "    'n_neighbors': np.arange(1, 31),\n",
        "    'weights': ['uniform', 'distance'],\n",
        "    'metric': ['euclidean', 'manhattan']\n",
        "}\n",
        "\n",
        "# initialize model and RandomizedSearchCV\n",
        "knn = KNeighborsClassifier()\n",
        "random_search_knn = RandomizedSearchCV(knn, param_dist, n_iter=100, cv=5, scoring='accuracy')\n",
        "\n",
        "# Fit model to data\n",
        "random_search_knn.fit(X_train, y_train)\n",
        "\n",
        "print(f\"Best Hyperparameters: {random_search_knn.best_params_}\")\n",
        "print(f\"Best Cross-Validation Accuracy: {random_search_knn.best_score_}\")"
      ],
      "metadata": {
        "colab": {
          "base_uri": "https://localhost:8080/"
        },
        "id": "0lbDIvKBtHkh",
        "outputId": "3af1b4e7-9fe8-46da-d540-2df5c93fa818"
      },
      "execution_count": null,
      "outputs": [
        {
          "output_type": "stream",
          "name": "stdout",
          "text": [
            "Best Hyperparameters: {'weights': 'distance', 'n_neighbors': 3, 'metric': 'manhattan'}\n",
            "Best Cross-Validation Accuracy: 0.9651787907499034\n"
          ]
        }
      ]
    },
    {
      "cell_type": "code",
      "source": [
        "# print all best hyperparamaters and best cross - validation\n",
        "print(\"Best Hyperparameters and Best Cross-Validation Accuracy for model logistic regression\")\n",
        "print(f\"Best Hyperparameters: {grid_search_log_reg.best_params_}\")\n",
        "print(f\"Best Cross-Validation Accuracy: {grid_search_log_reg.best_score_}\")\n",
        "print(\"=\"*50)\n",
        "print(\"Best Hyperparameters and Best Cross-Validation Accuracy for model decision tree\")\n",
        "print(f\"Best Hyperparameters: {grid_search_dt.best_params_}\")\n",
        "print(f\"Best Cross-Validation Accuracy: {grid_search_dt.best_score_}\")\n",
        "print(\"=\"*50)\n",
        "print(\"Best Hyperparameters and Best Cross-Validation Accuracy for model random forest\")\n",
        "print(f\"Best Hyperparameters: {grid_search_rf.best_params_}\")\n",
        "print(f\"Best Cross-Validation Accuracy: {grid_search_rf.best_score_}\")\n",
        "print(\"=\"*50)\n",
        "print(\"Best Hyperparameters and Best Cross-Validation Accuracy for model k-nearest neighbors\")\n",
        "print(f\"Best Hyperparameters: {random_search_knn.best_params_}\")\n",
        "print(f\"Best Cross-Validation Accuracy: {random_search_knn.best_score_}\")"
      ],
      "metadata": {
        "colab": {
          "base_uri": "https://localhost:8080/"
        },
        "id": "uZ_wOaCPtbww",
        "outputId": "d9052255-7246-40b8-a178-e4806efa1fdf"
      },
      "execution_count": null,
      "outputs": [
        {
          "output_type": "stream",
          "name": "stdout",
          "text": [
            "Best Hyperparameters and Best Cross-Validation Accuracy for model logistic regression\n",
            "Best Hyperparameters: {'C': 0.1, 'penalty': 'l2', 'solver': 'liblinear'}\n",
            "Best Cross-Validation Accuracy: 0.9733960299914612\n",
            "==================================================\n",
            "Best Hyperparameters and Best Cross-Validation Accuracy for model decision tree\n",
            "Best Hyperparameters: {'criterion': 'gini', 'max_depth': 30, 'min_samples_leaf': 2, 'min_samples_split': 5}\n",
            "Best Cross-Validation Accuracy: 0.9883940999637388\n",
            "==================================================\n",
            "Best Hyperparameters and Best Cross-Validation Accuracy for model random forest\n",
            "Best Hyperparameters: {'max_depth': None, 'min_samples_leaf': 1, 'min_samples_split': 5, 'n_estimators': 300}\n",
            "Best Cross-Validation Accuracy: 0.9903299762548106\n",
            "==================================================\n",
            "Best Hyperparameters and Best Cross-Validation Accuracy for model k-nearest neighbors\n",
            "Best Hyperparameters: {'weights': 'distance', 'n_neighbors': 3, 'metric': 'manhattan'}\n",
            "Best Cross-Validation Accuracy: 0.9651787907499034\n"
          ]
        }
      ]
    },
    {
      "cell_type": "markdown",
      "source": [
        "## **d. Evaluasi Model Klasifikasi setelah Tuning (Optional)**"
      ],
      "metadata": {
        "id": "hE7pqlEPEYzI"
      }
    },
    {
      "cell_type": "code",
      "source": [
        "from sklearn.metrics import classification_report, confusion_matrix, accuracy_score\n",
        "\n",
        "# Model logistic regression with best hyperparameter\n",
        "log_reg_best = LogisticRegression(C=0.1, penalty='l2', solver='liblinear')\n",
        "log_reg_best.fit(X_train, y_train)\n",
        "log_reg_predictions = log_reg_best.predict(X_test)\n",
        "\n",
        "# Model decision tree with best hyperparameter\n",
        "decision_tree_best = DecisionTreeClassifier(criterion='gini', max_depth=30, min_samples_leaf=2, min_samples_split=5)\n",
        "decision_tree_best.fit(X_train, y_train)\n",
        "decision_tree_predictions = decision_tree_best.predict(X_test)\n",
        "\n",
        "# Model random forest with best hyperparameter\n",
        "random_forest_best = RandomForestClassifier(max_depth=None, min_samples_leaf=1, min_samples_split=5, n_estimators=300)\n",
        "random_forest_best.fit(X_train, y_train)\n",
        "random_forest_predictions = random_forest_best.predict(X_test)\n",
        "\n",
        "# Model k-nearest neighbors with best hyperparameter\n",
        "knn_best = KNeighborsClassifier(weights='distance', n_neighbors=3, metric='manhattan')\n",
        "knn_best.fit(X_train, y_train)\n",
        "knn_predictions = knn_best.predict(X_test)\n",
        "\n",
        "# Evaluation performance each model\n",
        "models = {\n",
        "    \"Logistic Regression\": log_reg_best,\n",
        "    \"Decision Tree\": decision_tree_best,\n",
        "    \"Random Forest\": random_forest_best,\n",
        "    \"K-Nearest Neighbors\": knn_best\n",
        "}\n",
        "\n",
        "for model_name, model in models.items():\n",
        "    print(f\"Model: {model_name}\")\n",
        "    predictions = model.predict(X_test)\n",
        "    print(\"Accuracy:\", accuracy_score(y_test, predictions))\n",
        "    print(\"Classification Report:\\n\", classification_report(y_test, predictions))\n",
        "    print(\"Confusion Matrix:\\n\", confusion_matrix(y_test, predictions))\n",
        "    print(\"=\"*50)\n"
      ],
      "metadata": {
        "id": "HTXZRvEeNMb1",
        "colab": {
          "base_uri": "https://localhost:8080/"
        },
        "outputId": "0a34ca0a-a728-45cb-a66f-6f8574316211"
      },
      "execution_count": null,
      "outputs": [
        {
          "output_type": "stream",
          "name": "stdout",
          "text": [
            "Model: Logistic Regression\n",
            "Accuracy: 0.9458413926499033\n",
            "Classification Report:\n",
            "               precision    recall  f1-score   support\n",
            "\n",
            "           0       0.96      0.99      0.98       386\n",
            "           1       0.89      0.89      0.89       119\n",
            "           2       0.00      0.00      0.00        12\n",
            "\n",
            "    accuracy                           0.95       517\n",
            "   macro avg       0.62      0.63      0.62       517\n",
            "weighted avg       0.92      0.95      0.93       517\n",
            "\n",
            "Confusion Matrix:\n",
            " [[383   3   0]\n",
            " [ 13 106   0]\n",
            " [  2  10   0]]\n",
            "==================================================\n",
            "Model: Decision Tree\n",
            "Accuracy: 0.9787234042553191\n",
            "Classification Report:\n",
            "               precision    recall  f1-score   support\n",
            "\n",
            "           0       0.99      0.98      0.99       386\n",
            "           1       0.95      0.96      0.95       119\n",
            "           2       1.00      1.00      1.00        12\n",
            "\n",
            "    accuracy                           0.98       517\n",
            "   macro avg       0.98      0.98      0.98       517\n",
            "weighted avg       0.98      0.98      0.98       517\n",
            "\n",
            "Confusion Matrix:\n",
            " [[380   6   0]\n",
            " [  5 114   0]\n",
            " [  0   0  12]]\n",
            "==================================================\n",
            "Model: Random Forest\n",
            "Accuracy: 0.9864603481624759\n",
            "Classification Report:\n",
            "               precision    recall  f1-score   support\n",
            "\n",
            "           0       0.99      0.99      0.99       386\n",
            "           1       0.98      0.96      0.97       119\n",
            "           2       1.00      1.00      1.00        12\n",
            "\n",
            "    accuracy                           0.99       517\n",
            "   macro avg       0.99      0.98      0.99       517\n",
            "weighted avg       0.99      0.99      0.99       517\n",
            "\n",
            "Confusion Matrix:\n",
            " [[384   2   0]\n",
            " [  5 114   0]\n",
            " [  0   0  12]]\n",
            "==================================================\n",
            "Model: K-Nearest Neighbors\n",
            "Accuracy:"
          ]
        },
        {
          "output_type": "stream",
          "name": "stderr",
          "text": [
            "/usr/local/lib/python3.10/dist-packages/sklearn/metrics/_classification.py:1565: UndefinedMetricWarning: Precision is ill-defined and being set to 0.0 in labels with no predicted samples. Use `zero_division` parameter to control this behavior.\n",
            "  _warn_prf(average, modifier, f\"{metric.capitalize()} is\", len(result))\n",
            "/usr/local/lib/python3.10/dist-packages/sklearn/metrics/_classification.py:1565: UndefinedMetricWarning: Precision is ill-defined and being set to 0.0 in labels with no predicted samples. Use `zero_division` parameter to control this behavior.\n",
            "  _warn_prf(average, modifier, f\"{metric.capitalize()} is\", len(result))\n",
            "/usr/local/lib/python3.10/dist-packages/sklearn/metrics/_classification.py:1565: UndefinedMetricWarning: Precision is ill-defined and being set to 0.0 in labels with no predicted samples. Use `zero_division` parameter to control this behavior.\n",
            "  _warn_prf(average, modifier, f\"{metric.capitalize()} is\", len(result))\n"
          ]
        },
        {
          "output_type": "stream",
          "name": "stdout",
          "text": [
            " 0.9342359767891683\n",
            "Classification Report:\n",
            "               precision    recall  f1-score   support\n",
            "\n",
            "           0       0.95      0.98      0.97       386\n",
            "           1       0.89      0.87      0.88       119\n",
            "           2       0.25      0.08      0.12        12\n",
            "\n",
            "    accuracy                           0.93       517\n",
            "   macro avg       0.70      0.65      0.66       517\n",
            "weighted avg       0.92      0.93      0.93       517\n",
            "\n",
            "Confusion Matrix:\n",
            " [[378   7   1]\n",
            " [ 13 104   2]\n",
            " [  5   6   1]]\n",
            "==================================================\n"
          ]
        }
      ]
    },
    {
      "cell_type": "markdown",
      "source": [
        "## **e. Analisis Hasil Evaluasi Model Klasifikasi**"
      ],
      "metadata": {
        "id": "ZRsOdm4uEgAW"
      }
    },
    {
      "cell_type": "markdown",
      "source": [
        "**Perbandingan Hasil Evaluasi Sebelum dan Setelah Hyperparameter Tuning**\n",
        "\n",
        "1. Logistic Regression\n",
        "  - Sebelum Hyperparameter Tuning:\n",
        "    - Cross-Validation Accuracy: 0.9734\n",
        "  - Setelah Hyperparameter Tuning:\n",
        "    -  Accuracy: 0.9458\n",
        "    - Precision & Recall: Menurun pada kelas 2, terlihat dari f1-score = 0.00\n",
        "    - Confusion Matrix: Kesalahan pada kelas 2 meningkat, model tidak memprediksi kelas 2 dengan baik.\n",
        "2. Decision Tree\n",
        "  - Sebelum Hyperparameter Tuning:\n",
        "    - Cross-Validation Accuracy: 0.9884\n",
        "  - Setelah Hyperparameter Tuning:\n",
        "    - Accuracy: 0.9787\n",
        "    - Precision & Recall: Hampir sempurna di semua kelas, terutama kelas 2 (f1-score = 1.00).\n",
        "    - Confusion Matrix: Kesalahan prediksi lebih sedikit dibandingkan logistic regression, akurasi sangat mendekati hasil cross-validation.\n",
        "3. Random Forest\n",
        "  - Sebelum Hyperparameter Tuning:\n",
        "    - Cross-Validation Accuracy: 0.9903\n",
        "  - Setelah Hyperparameter Tuning:\n",
        "    - Accuracy: 0.9865\n",
        "    - Precision & Recall: Hampir sempurna untuk semua kelas, termasuk kelas 2 (f1-score = 1.00).\n",
        "    - Confusion Matrix: Prediksi sangat akurat, hanya sedikit kesalahan.\n",
        "4. K-Nearest Neighbors\n",
        "  - Sebelum Hyperparameter Tuning:\n",
        "    - Cross-Validation Accuracy: 0.9652\n",
        "  - Setelah Hyperparameter Tuning:\n",
        "    - Accuracy: 0.93\n",
        "    - Precision & Recall: Menurun pada kelas 2 (f1-score = 0.12) dan kelas 1 sedikit lebih rendah dari random forest.\n",
        "    - Confusion Matrix: Kesalahan pada kelas 2 cukup tinggi, model sering salah mengklasifikasikan kelas 2 ke kelas lainnya.\n",
        "\n",
        "---\n",
        "\n",
        "Random Forest menjadi model terbaik karena:\n",
        "Akurasi tinggi pada cross-validation dan evaluasi akhir dan\n",
        "Menangani semua kelas, termasuk kelas minoritas (kelas 2), dengan sangat baik.\n"
      ],
      "metadata": {
        "id": "Hm3BhSi6N4_l"
      }
    }
  ]
}